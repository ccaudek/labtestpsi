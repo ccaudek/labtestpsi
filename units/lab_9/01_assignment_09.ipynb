{
 "cells": [
  {
   "attachments": {},
   "cell_type": "markdown",
   "id": "79a2941d",
   "metadata": {},
   "source": [
    "# CFA {#sec-cfa2}"
   ]
  },
  {
   "attachments": {},
   "cell_type": "markdown",
   "id": "39f85889",
   "metadata": {},
   "source": [
    "## Esercitazioni Assegnate\n",
    "\n",
    "- A. CFA e Higher-Order Factor Analysis. \n",
    "- B. FA e attendibilità. Calcolo dell'attendibilità con `compRelSEM()`. Confronto con alpha di Cronbach e omega di McDonal calcolate dai parametri del modello (solo per modelli unifattoriali). Average variance extracted con `AVE()`.\n",
    "- D. CFA with Non-Normal or Categorical Data.\n",
    "- E. ESEM. \n",
    "- F. Modification Indices. Applicazioni per FAI.\n",
    "- G. FIML."
   ]
  }
 ],
 "metadata": {
  "jupytext": {
   "cell_metadata_filter": "tags,-all",
   "main_language": "R",
   "notebook_metadata_filter": "-all"
  },
  "kernelspec": {
   "display_name": "R",
   "language": "R",
   "name": "ir"
  },
  "language_info": {
   "codemirror_mode": "r",
   "file_extension": ".r",
   "mimetype": "text/x-r-source",
   "name": "R",
   "pygments_lexer": "r",
   "version": "4.4.1"
  }
 },
 "nbformat": 4,
 "nbformat_minor": 5
}
