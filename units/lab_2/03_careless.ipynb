{
 "cells": [
  {
   "attachments": {},
   "cell_type": "markdown",
   "id": "79a2941d",
   "metadata": {},
   "source": [
    "# Careless responding {#sec-careless}"
   ]
  },
  {
   "cell_type": "markdown",
   "id": "7e6ffbd1",
   "metadata": {},
   "source": [
    "**Prerequisiti**\n",
    "\n",
    "- Leggere *Dealing with careless responding in survey data: Prevention, identification, and recommended best practices* [@ward2023dealing].\n",
    "\n",
    "**Concetti e Competenze Chiave**\n",
    "\n",
    "**Preparazione del Notebook**"
   ]
  },
  {
   "cell_type": "code",
   "execution_count": 2,
   "id": "771d7c1a",
   "metadata": {
    "vscode": {
     "languageId": "r"
    }
   },
   "outputs": [],
   "source": [
    "# Carica il file _common.R per impostazioni di pacchetti e opzioni\n",
    "here::here(\"code\", \"_common.R\") |> source()"
   ]
  },
  {
   "attachments": {},
   "cell_type": "markdown",
   "id": "39f85889",
   "metadata": {},
   "source": [
    "## Introduzione\n"
   ]
  },
  {
   "cell_type": "markdown",
   "id": "e2f68cfd",
   "metadata": {},
   "source": [
    "## Session Info"
   ]
  },
  {
   "cell_type": "code",
   "execution_count": 51,
   "id": "c8d16429",
   "metadata": {
    "vscode": {
     "languageId": "r"
    }
   },
   "outputs": [
    {
     "data": {
      "text/plain": [
       "R version 4.4.1 (2024-06-14)\n",
       "Platform: aarch64-apple-darwin20\n",
       "Running under: macOS 15.0.1\n",
       "\n",
       "Matrix products: default\n",
       "BLAS:   /Library/Frameworks/R.framework/Versions/4.4-arm64/Resources/lib/libRblas.0.dylib \n",
       "LAPACK: /Library/Frameworks/R.framework/Versions/4.4-arm64/Resources/lib/libRlapack.dylib;  LAPACK version 3.12.0\n",
       "\n",
       "locale:\n",
       "[1] C\n",
       "\n",
       "time zone: Europe/Rome\n",
       "tzcode source: internal\n",
       "\n",
       "attached base packages:\n",
       "[1] stats     graphics  grDevices utils     datasets  methods  \n",
       "[7] base     \n",
       "\n",
       "other attached packages:\n",
       " [1] lavaanExtra_0.2.1 lavaanPlot_0.8.1  kableExtra_1.4.0 \n",
       " [4] corrplot_0.94     nortest_1.0-4     MASS_7.3-61      \n",
       " [7] ggokabeito_0.1.0  viridis_0.6.5     viridisLite_0.4.2\n",
       "[10] ggpubr_0.6.0      ggExtra_0.10.1    gridExtra_2.3    \n",
       "[13] patchwork_1.3.0   bayesplot_1.11.1  semTools_0.5-6   \n",
       "[16] semPlot_1.1.6     lavaan_0.6-19     psych_2.4.6.26   \n",
       "[19] scales_1.3.0      markdown_1.13     knitr_1.48       \n",
       "[22] lubridate_1.9.3   forcats_1.0.0     stringr_1.5.1    \n",
       "[25] dplyr_1.1.4       purrr_1.0.2       readr_2.1.5      \n",
       "[28] tidyr_1.3.1       tibble_3.2.1      ggplot2_3.5.1    \n",
       "[31] tidyverse_2.0.0   here_1.0.1       \n",
       "\n",
       "loaded via a namespace (and not attached):\n",
       "  [1] RColorBrewer_1.1-3  rstudioapi_0.16.0   jsonlite_1.8.9     \n",
       "  [4] magrittr_2.0.3      TH.data_1.1-2       estimability_1.5.1 \n",
       "  [7] farver_2.1.2        nloptr_2.1.1        rmarkdown_2.28     \n",
       " [10] vctrs_0.6.5         Cairo_1.6-2         minqa_1.2.8        \n",
       " [13] base64enc_0.1-3     rstatix_0.7.2       htmltools_0.5.8.1  \n",
       " [16] broom_1.0.7         Formula_1.2-5       htmlwidgets_1.6.4  \n",
       " [19] plyr_1.8.9          sandwich_3.1-1      emmeans_1.10.4     \n",
       " [22] zoo_1.8-12          uuid_1.2-1          igraph_2.0.3       \n",
       " [25] mime_0.12           lifecycle_1.0.4     pkgconfig_2.0.3    \n",
       " [28] Matrix_1.7-0        R6_2.5.1            fastmap_1.2.0      \n",
       " [31] shiny_1.9.1         numDeriv_2016.8-1.1 digest_0.6.37      \n",
       " [34] OpenMx_2.21.12      fdrtool_1.2.18      colorspace_2.1-1   \n",
       " [37] rprojroot_2.0.4     Hmisc_5.1-3         labeling_0.4.3     \n",
       " [40] fansi_1.0.6         timechange_0.3.0    abind_1.4-8        \n",
       " [43] compiler_4.4.1      withr_3.0.1         glasso_1.11        \n",
       " [46] htmlTable_2.4.3     backports_1.5.0     carData_3.0-5      \n",
       " [49] ggsignif_0.6.4      corpcor_1.6.10      gtools_3.9.5       \n",
       " [52] tools_4.4.1         pbivnorm_0.6.0      foreign_0.8-87     \n",
       " [55] zip_2.3.1           httpuv_1.6.15       nnet_7.3-19        \n",
       " [58] glue_1.8.0          quadprog_1.5-8      DiagrammeR_1.0.11  \n",
       " [61] promises_1.3.0      nlme_3.1-166        lisrelToR_0.3      \n",
       " [64] grid_4.4.1          pbdZMQ_0.3-13       checkmate_2.3.2    \n",
       " [67] cluster_2.1.6       reshape2_1.4.4      generics_0.1.3     \n",
       " [70] gtable_0.3.5        tzdb_0.4.0          data.table_1.16.0  \n",
       " [73] hms_1.1.3           xml2_1.3.6          car_3.1-3          \n",
       " [76] utf8_1.2.4          sem_3.1-16          pillar_1.9.0       \n",
       " [79] IRdisplay_1.1       rockchalk_1.8.157   later_1.3.2        \n",
       " [82] splines_4.4.1       lattice_0.22-6      survival_3.7-0     \n",
       " [85] kutils_1.73         tidyselect_1.2.1    miniUI_0.1.1.1     \n",
       " [88] pbapply_1.7-2       svglite_2.1.3       stats4_4.4.1       \n",
       " [91] xfun_0.48           qgraph_1.9.8        arm_1.14-4         \n",
       " [94] visNetwork_2.1.2    stringi_1.8.4       pacman_0.5.1       \n",
       " [97] boot_1.3-31         evaluate_1.0.0      codetools_0.2-20   \n",
       "[100] mi_1.1              cli_3.6.3           RcppParallel_5.1.9 \n",
       "[103] IRkernel_1.3.2      rpart_4.1.23        systemfonts_1.1.0  \n",
       "[106] xtable_1.8-4        repr_1.1.7          munsell_0.5.1      \n",
       "[109] Rcpp_1.0.13         coda_0.19-4.1       png_0.1-8          \n",
       "[112] XML_3.99-0.17       parallel_4.4.1      jpeg_0.1-10        \n",
       "[115] lme4_1.1-35.5       mvtnorm_1.3-1       openxlsx_4.2.7.1   \n",
       "[118] crayon_1.5.3        rlang_1.1.4         multcomp_1.4-26    \n",
       "[121] mnormt_2.1.1       "
      ]
     },
     "metadata": {},
     "output_type": "display_data"
    }
   ],
   "source": [
    "sessionInfo()"
   ]
  }
 ],
 "metadata": {
  "jupytext": {
   "cell_metadata_filter": "tags,-all",
   "main_language": "R",
   "notebook_metadata_filter": "-all"
  },
  "kernelspec": {
   "display_name": "R",
   "language": "R",
   "name": "ir"
  },
  "language_info": {
   "codemirror_mode": "r",
   "file_extension": ".r",
   "mimetype": "text/x-r-source",
   "name": "R",
   "pygments_lexer": "r",
   "version": "4.4.1"
  }
 },
 "nbformat": 4,
 "nbformat_minor": 5
}
