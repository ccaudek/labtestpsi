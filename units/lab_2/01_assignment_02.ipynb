{
 "cells": [
  {
   "attachments": {},
   "cell_type": "markdown",
   "id": "79a2941d",
   "metadata": {},
   "source": [
    "# Esercitazioni Assegnate {#sec-eda}"
   ]
  },
  {
   "attachments": {},
   "cell_type": "markdown",
   "id": "39f85889",
   "metadata": {},
   "source": [
    "## EDA\n",
    "\n",
    "- A. Presentazione del seguente articolo: Dima (2018). Scale validation in applied health research: tutorial for a 6-step R-based psychometrics protocol. *Health Psychology and Behavioral Medicine*, *6*(1), 136--161.\n",
    "- B. Importare i dati in R. Distribuzioni di densità. \n",
    "- C. Statistiche descrittive, curtosi e asimmetria.  \n",
    "- D. Outlier, distanza di Mahalanobis. \n",
    "- E. Presentazione degli articoli: \n",
    "\n",
    "    - Ward, M. K., & Meade, A. W. (2023). Dealing with careless responding in survey data: Prevention, identification, and recommended best practices. *Annual Review of Psychology*, *74*(1), 577-596.\n",
    "    - Stosic, M. D., Murphy, B. A., Duong, F., Fultz, A. A., Harvey, S. E., & Bernieri, F. (2024). Careless responding: Why many findings are spurious or spuriously inflated. *Advances in Methods and Practices in Psychological Science*, *7*(1), 25152459241231581.\n",
    "\n",
    "- F. Applicazione dei principi del CR ai dati FAI."
   ]
  }
 ],
 "metadata": {
  "jupytext": {
   "cell_metadata_filter": "tags,-all",
   "main_language": "R",
   "notebook_metadata_filter": "-all"
  },
  "kernelspec": {
   "display_name": "R",
   "language": "R",
   "name": "ir"
  },
  "language_info": {
   "codemirror_mode": "r",
   "file_extension": ".r",
   "mimetype": "text/x-r-source",
   "name": "R",
   "pygments_lexer": "r",
   "version": "4.4.1"
  }
 },
 "nbformat": 4,
 "nbformat_minor": 5
}
