{
 "cells": [
  {
   "attachments": {},
   "cell_type": "markdown",
   "id": "79a2941d",
   "metadata": {},
   "source": [
    "# MSA {#sec-msa}"
   ]
  },
  {
   "attachments": {},
   "cell_type": "markdown",
   "id": "39f85889",
   "metadata": {},
   "source": [
    "## Esercitazioni Assegnate\n",
    "\n",
    "- A. Spiegazione del modello di regressione logistica.\n",
    "- B. Applicazione della regressione logistica con i dati FAI.\n",
    "- C. Spiegazione AUC.\n",
    "- D. Spiegare la Mokken Scale Analysis.\n",
    "- E. Applicare la MSA ai dati FAI.\n",
    "- F. Discutere la MSA della Standard Progressive Matrices (SPM-LS) e replicare i risultati di Myszkowski (2020)."
   ]
  }
 ],
 "metadata": {
  "jupytext": {
   "cell_metadata_filter": "tags,-all",
   "main_language": "R",
   "notebook_metadata_filter": "-all"
  },
  "kernelspec": {
   "display_name": "R",
   "language": "R",
   "name": "ir"
  },
  "language_info": {
   "codemirror_mode": "r",
   "file_extension": ".r",
   "mimetype": "text/x-r-source",
   "name": "R",
   "pygments_lexer": "r",
   "version": "4.4.2"
  }
 },
 "nbformat": 4,
 "nbformat_minor": 5
}
