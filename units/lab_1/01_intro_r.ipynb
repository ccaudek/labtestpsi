{
 "cells": [
  {
   "attachments": {},
   "cell_type": "markdown",
   "id": "79a2941d",
   "metadata": {},
   "source": [
    "# Introduzione a R e Quarto {#sec-r-intro}"
   ]
  },
  {
   "cell_type": "markdown",
   "id": "7e6ffbd1",
   "metadata": {},
   "source": [
    "**Prerequisiti**\n",
    "\n",
    "- Leggere il capitolo X, *x* di @petersen2024principles. \n",
    "\n",
    "**Concetti e Competenze Chiave**\n",
    "\n",
    "**Preparazione del Notebook**"
   ]
  },
  {
   "cell_type": "code",
   "execution_count": 2,
   "id": "771d7c1a",
   "metadata": {},
   "outputs": [
    {
     "name": "stderr",
     "output_type": "stream",
     "text": [
      "Caricamento dei namespace richiesti: pacman\n",
      "\n"
     ]
    }
   ],
   "source": [
    "# Carica il file _common.R per impostazioni di pacchetti e opzioni\n",
    "here::here(\"code\", \"_common.R\") |> source()"
   ]
  },
  {
   "attachments": {},
   "cell_type": "markdown",
   "id": "39f85889",
   "metadata": {},
   "source": [
    "## Introduzione\n",
    "\n",
    "Ci sono moltissime risorse online che offrono un'introduzione a R. Per le funzionalità di base, consiglio [An Introduction to R](https://intro2r.com). Per un'introduzione alle funzionalità del tidyverse, consiglio [Introduction to R with Tidyverse](https://introduction-r-tidyverse.netlify.app).\n",
    "\n",
    "In questo laboratorio utilizzeremo [Quarto](https://quarto.org), che permette di creare notebook contenenti sia testo che codice. Questo sito web è stato realizzato utilizzando Quarto. Una delle caratteristiche interessanti di Quarto è che consente di utilizzare sia codice R che codice Python nello stesso notebook.\n",
    "\n",
    "# File `.ipynb` e `.qmd`\n",
    "\n",
    "Questa pagina è un esempio dell'uso di un file `.ipynb` come documento sorgente. In alternativa, è possibile usare file `.qmd`.\n",
    "\n",
    "\n",
    "## $\\LaTeX$\n",
    "\n",
    "$$\n",
    "\\theta = \\int_0^\\infty f(x,\\theta)d\\theta\n",
    "$$\n",
    "\n",
    "\n",
    "## Div stilizzato tramite HTML diretto\n",
    "\n",
    "::: {.border}\n",
    "Questo contenuto può essere stilizzato tramite la classe border.\n",
    ":::\n",
    "\n",
    "## Un avviso\n",
    "\n",
    "::: {.callout-tip}\n",
    "## Suggerimento con Titolo\n",
    "\n",
    "Questo è un esempio di un avviso con un titolo.\n",
    ":::\n",
    "\n",
    "## R\n",
    "\n",
    "Se usiamo l'argomento `#| output: false`, il codice nella cella R non viene eseguito.\n",
    "\n",
    "```r\n",
    "#| output: false\n",
    "\n",
    "fizz_buzz <- function(fbnums = 1:50) {\n",
    "    output <- dplyr::case_when(\n",
    "        fbnums %% 15 == 0 ~ \"FizzBuzz\",\n",
    "        fbnums %% 3 == 0 ~ \"Fizz\",\n",
    "        fbnums %% 5 == 0 ~ \"Buzz\",\n",
    "        TRUE ~ as.character(fbnums)\n",
    "    )\n",
    "    print(output)\n",
    "}\n",
    "\n",
    "fizz_buzz(3)\n",
    "```"
   ]
  },
  {
   "cell_type": "markdown",
   "id": "b4ad0479",
   "metadata": {},
   "source": [
    "Di default, invece, il codice inserito in una cella di codice viene eseguito."
   ]
  },
  {
   "cell_type": "code",
   "execution_count": 5,
   "id": "63fd10cd",
   "metadata": {},
   "outputs": [
    {
     "name": "stdout",
     "output_type": "stream",
     "text": [
      "[1] \"Fizz\"\n"
     ]
    }
   ],
   "source": [
    "fizz_buzz <- function(fbnums = 1:50) {\n",
    "    output <- dplyr::case_when(\n",
    "        fbnums %% 15 == 0 ~ \"FizzBuzz\",\n",
    "        fbnums %% 3 == 0 ~ \"Fizz\",\n",
    "        fbnums %% 5 == 0 ~ \"Buzz\",\n",
    "        TRUE ~ as.character(fbnums)\n",
    "    )\n",
    "    print(output)\n",
    "}\n",
    "\n",
    "fizz_buzz(3)"
   ]
  },
  {
   "cell_type": "markdown",
   "id": "11683a9e",
   "metadata": {},
   "source": [
    "Importiamo i dati contenuti in un file .csv:"
   ]
  },
  {
   "cell_type": "code",
   "execution_count": 3,
   "id": "b6e1dfde",
   "metadata": {},
   "outputs": [
    {
     "data": {
      "text/html": [
       "<table class=\"dataframe\">\n",
       "<caption>A data.frame: 6 x 8</caption>\n",
       "<thead>\n",
       "\t<tr><th></th><th scope=col>species</th><th scope=col>island</th><th scope=col>bill_length_mm</th><th scope=col>bill_depth_mm</th><th scope=col>flipper_length_mm</th><th scope=col>body_mass_g</th><th scope=col>sex</th><th scope=col>year</th></tr>\n",
       "\t<tr><th></th><th scope=col>&lt;chr&gt;</th><th scope=col>&lt;chr&gt;</th><th scope=col>&lt;dbl&gt;</th><th scope=col>&lt;dbl&gt;</th><th scope=col>&lt;int&gt;</th><th scope=col>&lt;int&gt;</th><th scope=col>&lt;chr&gt;</th><th scope=col>&lt;int&gt;</th></tr>\n",
       "</thead>\n",
       "<tbody>\n",
       "\t<tr><th scope=row>1</th><td>Adelie</td><td>Torgersen</td><td>39.1</td><td>18.7</td><td>181</td><td>3750</td><td>male  </td><td>2007</td></tr>\n",
       "\t<tr><th scope=row>2</th><td>Adelie</td><td>Torgersen</td><td>39.5</td><td>17.4</td><td>186</td><td>3800</td><td>female</td><td>2007</td></tr>\n",
       "\t<tr><th scope=row>3</th><td>Adelie</td><td>Torgersen</td><td>40.3</td><td>18.0</td><td>195</td><td>3250</td><td>female</td><td>2007</td></tr>\n",
       "\t<tr><th scope=row>4</th><td>Adelie</td><td>Torgersen</td><td>  NA</td><td>  NA</td><td> NA</td><td>  NA</td><td>NA    </td><td>2007</td></tr>\n",
       "\t<tr><th scope=row>5</th><td>Adelie</td><td>Torgersen</td><td>36.7</td><td>19.3</td><td>193</td><td>3450</td><td>female</td><td>2007</td></tr>\n",
       "\t<tr><th scope=row>6</th><td>Adelie</td><td>Torgersen</td><td>39.3</td><td>20.6</td><td>190</td><td>3650</td><td>male  </td><td>2007</td></tr>\n",
       "</tbody>\n",
       "</table>\n"
      ],
      "text/latex": [
       "A data.frame: 6 x 8\n",
       "\\begin{tabular}{r|llllllll}\n",
       "  & species & island & bill\\_length\\_mm & bill\\_depth\\_mm & flipper\\_length\\_mm & body\\_mass\\_g & sex & year\\\\\n",
       "  & <chr> & <chr> & <dbl> & <dbl> & <int> & <int> & <chr> & <int>\\\\\n",
       "\\hline\n",
       "\t1 & Adelie & Torgersen & 39.1 & 18.7 & 181 & 3750 & male   & 2007\\\\\n",
       "\t2 & Adelie & Torgersen & 39.5 & 17.4 & 186 & 3800 & female & 2007\\\\\n",
       "\t3 & Adelie & Torgersen & 40.3 & 18.0 & 195 & 3250 & female & 2007\\\\\n",
       "\t4 & Adelie & Torgersen &   NA &   NA &  NA &   NA & NA     & 2007\\\\\n",
       "\t5 & Adelie & Torgersen & 36.7 & 19.3 & 193 & 3450 & female & 2007\\\\\n",
       "\t6 & Adelie & Torgersen & 39.3 & 20.6 & 190 & 3650 & male   & 2007\\\\\n",
       "\\end{tabular}\n"
      ],
      "text/markdown": [
       "\n",
       "A data.frame: 6 x 8\n",
       "\n",
       "| <!--/--> | species &lt;chr&gt; | island &lt;chr&gt; | bill_length_mm &lt;dbl&gt; | bill_depth_mm &lt;dbl&gt; | flipper_length_mm &lt;int&gt; | body_mass_g &lt;int&gt; | sex &lt;chr&gt; | year &lt;int&gt; |\n",
       "|---|---|---|---|---|---|---|---|---|\n",
       "| 1 | Adelie | Torgersen | 39.1 | 18.7 | 181 | 3750 | male   | 2007 |\n",
       "| 2 | Adelie | Torgersen | 39.5 | 17.4 | 186 | 3800 | female | 2007 |\n",
       "| 3 | Adelie | Torgersen | 40.3 | 18.0 | 195 | 3250 | female | 2007 |\n",
       "| 4 | Adelie | Torgersen |   NA |   NA |  NA |   NA | NA     | 2007 |\n",
       "| 5 | Adelie | Torgersen | 36.7 | 19.3 | 193 | 3450 | female | 2007 |\n",
       "| 6 | Adelie | Torgersen | 39.3 | 20.6 | 190 | 3650 | male   | 2007 |\n",
       "\n"
      ],
      "text/plain": [
       "  species island    bill_length_mm bill_depth_mm flipper_length_mm body_mass_g\n",
       "1 Adelie  Torgersen 39.1           18.7          181               3750       \n",
       "2 Adelie  Torgersen 39.5           17.4          186               3800       \n",
       "3 Adelie  Torgersen 40.3           18.0          195               3250       \n",
       "4 Adelie  Torgersen   NA             NA           NA                 NA       \n",
       "5 Adelie  Torgersen 36.7           19.3          193               3450       \n",
       "6 Adelie  Torgersen 39.3           20.6          190               3650       \n",
       "  sex    year\n",
       "1 male   2007\n",
       "2 female 2007\n",
       "3 female 2007\n",
       "4 NA     2007\n",
       "5 female 2007\n",
       "6 male   2007"
      ]
     },
     "metadata": {},
     "output_type": "display_data"
    }
   ],
   "source": [
    "df <- rio::import(\n",
    "    \"/Users/corradocaudek/_repositories/psicometria/data/penguins.csv\"\n",
    ")\n",
    "\n",
    "df |> head()"
   ]
  },
  {
   "cell_type": "markdown",
   "id": "18579edd",
   "metadata": {},
   "source": [
    "Jupyter Notebook offre una grande flessibilità permettendoci di utilizzare diversi linguaggi di programmazione all'interno dello stesso documento. Nelle celle precedenti abbiamo utilizzato R, mentre nella cella successiva abbiamo cambiato contesto, passando a un ambiente Python specifico, attivato manualmente tramite il selettore del kernel in Visual Studio Code."
   ]
  },
  {
   "cell_type": "code",
   "execution_count": 2,
   "id": "6acd68c6",
   "metadata": {},
   "outputs": [
    {
     "data": {
      "text/html": [
       "<div>\n",
       "<style scoped>\n",
       "    .dataframe tbody tr th:only-of-type {\n",
       "        vertical-align: middle;\n",
       "    }\n",
       "\n",
       "    .dataframe tbody tr th {\n",
       "        vertical-align: top;\n",
       "    }\n",
       "\n",
       "    .dataframe thead th {\n",
       "        text-align: right;\n",
       "    }\n",
       "</style>\n",
       "<table border=\"1\" class=\"dataframe\">\n",
       "  <thead>\n",
       "    <tr style=\"text-align: right;\">\n",
       "      <th></th>\n",
       "      <th>species</th>\n",
       "      <th>island</th>\n",
       "      <th>bill_length_mm</th>\n",
       "      <th>bill_depth_mm</th>\n",
       "      <th>flipper_length_mm</th>\n",
       "      <th>body_mass_g</th>\n",
       "      <th>sex</th>\n",
       "      <th>year</th>\n",
       "    </tr>\n",
       "  </thead>\n",
       "  <tbody>\n",
       "    <tr>\n",
       "      <th>0</th>\n",
       "      <td>Adelie</td>\n",
       "      <td>Torgersen</td>\n",
       "      <td>39.1</td>\n",
       "      <td>18.7</td>\n",
       "      <td>181.0</td>\n",
       "      <td>3750.0</td>\n",
       "      <td>male</td>\n",
       "      <td>2007</td>\n",
       "    </tr>\n",
       "    <tr>\n",
       "      <th>1</th>\n",
       "      <td>Adelie</td>\n",
       "      <td>Torgersen</td>\n",
       "      <td>39.5</td>\n",
       "      <td>17.4</td>\n",
       "      <td>186.0</td>\n",
       "      <td>3800.0</td>\n",
       "      <td>female</td>\n",
       "      <td>2007</td>\n",
       "    </tr>\n",
       "    <tr>\n",
       "      <th>2</th>\n",
       "      <td>Adelie</td>\n",
       "      <td>Torgersen</td>\n",
       "      <td>40.3</td>\n",
       "      <td>18.0</td>\n",
       "      <td>195.0</td>\n",
       "      <td>3250.0</td>\n",
       "      <td>female</td>\n",
       "      <td>2007</td>\n",
       "    </tr>\n",
       "    <tr>\n",
       "      <th>3</th>\n",
       "      <td>Adelie</td>\n",
       "      <td>Torgersen</td>\n",
       "      <td>NaN</td>\n",
       "      <td>NaN</td>\n",
       "      <td>NaN</td>\n",
       "      <td>NaN</td>\n",
       "      <td>NaN</td>\n",
       "      <td>2007</td>\n",
       "    </tr>\n",
       "    <tr>\n",
       "      <th>4</th>\n",
       "      <td>Adelie</td>\n",
       "      <td>Torgersen</td>\n",
       "      <td>36.7</td>\n",
       "      <td>19.3</td>\n",
       "      <td>193.0</td>\n",
       "      <td>3450.0</td>\n",
       "      <td>female</td>\n",
       "      <td>2007</td>\n",
       "    </tr>\n",
       "  </tbody>\n",
       "</table>\n",
       "</div>"
      ],
      "text/plain": [
       "  species     island  bill_length_mm  bill_depth_mm  flipper_length_mm  \\\n",
       "0  Adelie  Torgersen            39.1           18.7              181.0   \n",
       "1  Adelie  Torgersen            39.5           17.4              186.0   \n",
       "2  Adelie  Torgersen            40.3           18.0              195.0   \n",
       "3  Adelie  Torgersen             NaN            NaN                NaN   \n",
       "4  Adelie  Torgersen            36.7           19.3              193.0   \n",
       "\n",
       "   body_mass_g     sex  year  \n",
       "0       3750.0    male  2007  \n",
       "1       3800.0  female  2007  \n",
       "2       3250.0  female  2007  \n",
       "3          NaN     NaN  2007  \n",
       "4       3450.0  female  2007  "
      ]
     },
     "execution_count": 2,
     "metadata": {},
     "output_type": "execute_result"
    }
   ],
   "source": [
    "import os\n",
    "import numpy as np\n",
    "import pandas as pd\n",
    "from matplotlib import pyplot as plt\n",
    "import seaborn as sns\n",
    "import arviz as az\n",
    "from pathlib import Path\n",
    "\n",
    "# Get the home directory\n",
    "home_directory = os.path.expanduser(\"~\")\n",
    "# Construct the path to the Quarto project directory\n",
    "project_directory = os.path.join(home_directory, \"_repositories\", \"psicometria\")\n",
    "\n",
    "file_path = os.path.join(project_directory, \"data\", \"penguins.csv\")\n",
    "dat = pd.read_csv(file_path)\n",
    "\n",
    "dat.head()"
   ]
  },
  {
   "cell_type": "markdown",
   "id": "9696c3fa",
   "metadata": {},
   "source": [
    "Per facilitare l'interoperabilità tra R e Python in uno stesso Jupyter Notebook, è consigliabile serializzare i dati in un formato neutro come il CSV. In pratica, si manipolano i dati in un linguaggio e si salvano i dati intermedi in un file esterno, che può essere facilmente importato nell'altro linguaggio. Questo approccio evita le complessità legate alla gestione diretta degli oggetti tra linguaggi diversi."
   ]
  },
  {
   "cell_type": "markdown",
   "id": "e2f68cfd",
   "metadata": {},
   "source": [
    "## Session Info"
   ]
  },
  {
   "cell_type": "code",
   "execution_count": 1,
   "id": "c8d16429",
   "metadata": {},
   "outputs": [
    {
     "data": {
      "text/plain": [
       "R version 4.4.1 (2024-06-14)\n",
       "Platform: aarch64-apple-darwin20\n",
       "Running under: macOS 15.0.1\n",
       "\n",
       "Matrix products: default\n",
       "BLAS:   /Library/Frameworks/R.framework/Versions/4.4-arm64/Resources/lib/libRblas.0.dylib \n",
       "LAPACK: /Library/Frameworks/R.framework/Versions/4.4-arm64/Resources/lib/libRlapack.dylib;  LAPACK version 3.12.0\n",
       "\n",
       "locale:\n",
       "[1] C\n",
       "\n",
       "time zone: Europe/Rome\n",
       "tzcode source: internal\n",
       "\n",
       "attached base packages:\n",
       "[1] stats     graphics  grDevices utils     datasets  methods   base     \n",
       "\n",
       "loaded via a namespace (and not attached):\n",
       " [1] digest_0.6.37     IRdisplay_1.1     utf8_1.2.4        base64enc_0.1-3  \n",
       " [5] fastmap_1.2.0     glue_1.8.0        htmltools_0.5.8.1 repr_1.1.7       \n",
       " [9] lifecycle_1.0.4   cli_3.6.3         fansi_1.0.6       vctrs_0.6.5      \n",
       "[13] pbdZMQ_0.3-13     compiler_4.4.1    tools_4.4.1       evaluate_1.0.1   \n",
       "[17] pillar_1.9.0      crayon_1.5.3      rlang_1.1.4       jsonlite_1.8.9   \n",
       "[21] IRkernel_1.3.2    uuid_1.2-1       "
      ]
     },
     "metadata": {},
     "output_type": "display_data"
    }
   ],
   "source": [
    "sessionInfo()"
   ]
  }
 ],
 "metadata": {
  "jupytext": {
   "cell_metadata_filter": "tags,-all",
   "main_language": "R",
   "notebook_metadata_filter": "-all"
  },
  "kernelspec": {
   "display_name": "cmdstan_env",
   "language": "python",
   "name": "python3"
  },
  "language_info": {
   "codemirror_mode": {
    "name": "ipython",
    "version": 3
   },
   "file_extension": ".py",
   "mimetype": "text/x-python",
   "name": "python",
   "nbconvert_exporter": "python",
   "pygments_lexer": "ipython3",
   "version": "3.12.4"
  }
 },
 "nbformat": 4,
 "nbformat_minor": 5
}
