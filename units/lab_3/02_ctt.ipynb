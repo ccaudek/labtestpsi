{
 "cells": [
  {
   "attachments": {},
   "cell_type": "markdown",
   "id": "79a2941d",
   "metadata": {},
   "source": [
    "# Teoria Classica dei Test {#sec-ctt}"
   ]
  },
  {
   "cell_type": "markdown",
   "id": "7e6ffbd1",
   "metadata": {},
   "source": [
    "**Prerequisiti**\n",
    "\n",
    "- Leggere il capitolo 2, *Constructs*, e il capitolo 3, *Raliability*, di @petersen2024principles. \n",
    "\n",
    "**Concetti e Competenze Chiave**\n",
    "\n",
    "**Preparazione del Notebook**"
   ]
  },
  {
   "cell_type": "code",
   "execution_count": 80,
   "id": "771d7c1a",
   "metadata": {
    "vscode": {
     "languageId": "r"
    }
   },
   "outputs": [],
   "source": [
    "# Carica il file _common.R per impostazioni di pacchetti e opzioni\n",
    "here::here(\"code\", \"_common.R\") |> source()\n",
    "pacman::p_load(psychometric)"
   ]
  },
  {
   "attachments": {},
   "cell_type": "markdown",
   "id": "39f85889",
   "metadata": {},
   "source": [
    "## Esercitazioni Assegnate\n",
    "\n",
    "- A. Spiegare il modello di regressione lineare bivariato, spiegando sia la logica del calcolo dei coefficienti con il metodo dei minimi quadrati, sia l’interpretazione di parametri statistici come l’errore standard della regressione, la scomposizione della varianza e il calcolo del coefficiente di determinazione. Estendere quindi la discussione al modello alla regressione multipla e approfondendo l’interpretazione dei coefficienti parziali di regressione e il loro legame con i coefficienti parziali di correlazione.\n",
    "- B. Spiegare i concetti principali della CTT con una simulazione.\n",
    "- C. Calcolare le quantità della CTT per i dati FAI (attendibilità, SEM, stima del punteggio vero con il metodo di Kelley e relativo intervallo di fiducia).\n",
    "- D. Presentare un esempio della recente letteratura psicologica in cui vengono usati (1) il SEM, e (2) la stima del punteggio vero.\n",
    "- E. Presentare un esempio della recente letteratura psicologica in cui viene usato il Reliable Change Index (RCI) basato su SEM.\n",
    "- F. Discutere i limiti della stima SEM della CTT."
   ]
  },
  {
   "cell_type": "markdown",
   "id": "405647c9",
   "metadata": {},
   "source": [
    "## A. Modello di Regressione Lineare"
   ]
  },
  {
   "cell_type": "markdown",
   "id": "07740602",
   "metadata": {},
   "source": [
    "## B. Teoria Classica dei Test\n",
    "\n",
    "### Simulazione\n",
    "\n",
    "Simuliamo i dati in modo da riprodurre le tre assunzioni della CTT:\n",
    "\n",
    "- $\\mathbb{E}(E) = 0$\n",
    "- $\\rho_{TE} = 0$\n",
    "- $\\rho_{E_i, E_j} = 0$"
   ]
  },
  {
   "cell_type": "code",
   "execution_count": 20,
   "id": "e2902f54",
   "metadata": {
    "vscode": {
     "languageId": "r"
    }
   },
   "outputs": [],
   "source": [
    "set.seed(8394)\n",
    "\n",
    "n <- 100\n",
    "Sigma <- matrix(c(6, 0, 0, 3), byrow = TRUE, ncol = 2)\n",
    "mu <- c(12, 0)\n",
    "dat <- mvrnorm(n, mu, Sigma, empirical = TRUE)\n",
    "T <- dat[, 1]\n",
    "E <- dat[, 2]"
   ]
  },
  {
   "cell_type": "markdown",
   "id": "d99562f2",
   "metadata": {},
   "source": [
    "Generiamo i punteggi osservati in base alla formula fondamentale della CTT:"
   ]
  },
  {
   "cell_type": "code",
   "execution_count": 6,
   "id": "c63a96fb",
   "metadata": {
    "vscode": {
     "languageId": "r"
    }
   },
   "outputs": [],
   "source": [
    "X <- T + E"
   ]
  },
  {
   "cell_type": "markdown",
   "id": "37184571",
   "metadata": {},
   "source": [
    "Inseriamo i dati simulati in un data frame:"
   ]
  },
  {
   "cell_type": "code",
   "execution_count": 7,
   "id": "814d9fcd",
   "metadata": {
    "vscode": {
     "languageId": "r"
    }
   },
   "outputs": [
    {
     "data": {
      "text/html": [
       "<table class=\"dataframe\">\n",
       "<caption>A tibble: 6 x 3</caption>\n",
       "<thead>\n",
       "\t<tr><th scope=col>X</th><th scope=col>T</th><th scope=col>E</th></tr>\n",
       "\t<tr><th scope=col>&lt;dbl&gt;</th><th scope=col>&lt;dbl&gt;</th><th scope=col>&lt;dbl&gt;</th></tr>\n",
       "</thead>\n",
       "<tbody>\n",
       "\t<tr><td>15.698623</td><td>16.765359</td><td>-1.0667358</td></tr>\n",
       "\t<tr><td>13.657503</td><td>12.248096</td><td> 1.4094073</td></tr>\n",
       "\t<tr><td> 6.731979</td><td> 7.852136</td><td>-1.1201563</td></tr>\n",
       "\t<tr><td>14.621813</td><td>14.233699</td><td> 0.3881133</td></tr>\n",
       "\t<tr><td>10.606647</td><td>10.187035</td><td> 0.4196115</td></tr>\n",
       "\t<tr><td>12.370288</td><td>13.329971</td><td>-0.9596831</td></tr>\n",
       "</tbody>\n",
       "</table>\n"
      ],
      "text/latex": [
       "A tibble: 6 x 3\n",
       "\\begin{tabular}{lll}\n",
       " X & T & E\\\\\n",
       " <dbl> & <dbl> & <dbl>\\\\\n",
       "\\hline\n",
       "\t 15.698623 & 16.765359 & -1.0667358\\\\\n",
       "\t 13.657503 & 12.248096 &  1.4094073\\\\\n",
       "\t  6.731979 &  7.852136 & -1.1201563\\\\\n",
       "\t 14.621813 & 14.233699 &  0.3881133\\\\\n",
       "\t 10.606647 & 10.187035 &  0.4196115\\\\\n",
       "\t 12.370288 & 13.329971 & -0.9596831\\\\\n",
       "\\end{tabular}\n"
      ],
      "text/markdown": [
       "\n",
       "A tibble: 6 x 3\n",
       "\n",
       "| X &lt;dbl&gt; | T &lt;dbl&gt; | E &lt;dbl&gt; |\n",
       "|---|---|---|\n",
       "| 15.698623 | 16.765359 | -1.0667358 |\n",
       "| 13.657503 | 12.248096 |  1.4094073 |\n",
       "|  6.731979 |  7.852136 | -1.1201563 |\n",
       "| 14.621813 | 14.233699 |  0.3881133 |\n",
       "| 10.606647 | 10.187035 |  0.4196115 |\n",
       "| 12.370288 | 13.329971 | -0.9596831 |\n",
       "\n"
      ],
      "text/plain": [
       "  X         T         E         \n",
       "1 15.698623 16.765359 -1.0667358\n",
       "2 13.657503 12.248096  1.4094073\n",
       "3  6.731979  7.852136 -1.1201563\n",
       "4 14.621813 14.233699  0.3881133\n",
       "5 10.606647 10.187035  0.4196115\n",
       "6 12.370288 13.329971 -0.9596831"
      ]
     },
     "metadata": {},
     "output_type": "display_data"
    }
   ],
   "source": [
    "tibble(X, T, E) |> head()"
   ]
  },
  {
   "cell_type": "code",
   "execution_count": 8,
   "id": "aa03a361",
   "metadata": {
    "vscode": {
     "languageId": "r"
    }
   },
   "outputs": [
    {
     "data": {
      "image/png": "[encoded data removed]",
      "text/plain": [
       "plot without title"
      ]
     },
     "metadata": {
      "image/png": {
       "height": 296.6563,
       "width": 480
      }
     },
     "output_type": "display_data"
    }
   ],
   "source": [
    "tibble(X, T) |>\n",
    "    ggplot(aes(T, X)) +\n",
    "    geom_point(position = position_jitter(w = .3, h = .3)) +\n",
    "    geom_abline(col = \"blue\")"
   ]
  },
  {
   "cell_type": "code",
   "execution_count": 9,
   "id": "5ddec898",
   "metadata": {
    "vscode": {
     "languageId": "r"
    }
   },
   "outputs": [
    {
     "data": {
      "text/html": [
       "TRUE"
      ],
      "text/latex": [
       "TRUE"
      ],
      "text/markdown": [
       "TRUE"
      ],
      "text/plain": [
       "[1] TRUE"
      ]
     },
     "metadata": {},
     "output_type": "display_data"
    }
   ],
   "source": [
    "mean(T) == mean(X)"
   ]
  },
  {
   "cell_type": "code",
   "execution_count": 10,
   "id": "c2d647f8",
   "metadata": {
    "vscode": {
     "languageId": "r"
    }
   },
   "outputs": [
    {
     "data": {
      "text/html": [
       "0"
      ],
      "text/latex": [
       "0"
      ],
      "text/markdown": [
       "0"
      ],
      "text/plain": [
       "[1] 0"
      ]
     },
     "metadata": {},
     "output_type": "display_data"
    }
   ],
   "source": [
    "mean(E) |> round(2)"
   ]
  },
  {
   "cell_type": "code",
   "execution_count": 24,
   "id": "639a5a4e",
   "metadata": {
    "vscode": {
     "languageId": "r"
    }
   },
   "outputs": [
    {
     "data": {
      "text/html": [
       "<style>\n",
       ".list-inline {list-style: none; margin:0; padding: 0}\n",
       ".list-inline>li {display: inline-block}\n",
       ".list-inline>li:not(:last-child)::after {content: \"\\00b7\"; padding: 0 .5ex}\n",
       "</style>\n",
       "<ol class=list-inline><li>6</li><li>9</li><li>3</li></ol>\n"
      ],
      "text/latex": [
       "\\begin{enumerate*}\n",
       "\\item 6\n",
       "\\item 9\n",
       "\\item 3\n",
       "\\end{enumerate*}\n"
      ],
      "text/markdown": [
       "1. 6\n",
       "2. 9\n",
       "3. 3\n",
       "\n",
       "\n"
      ],
      "text/plain": [
       "[1] 6 9 3"
      ]
     },
     "metadata": {},
     "output_type": "display_data"
    }
   ],
   "source": [
    "c(var(T), var(X), var(E))"
   ]
  },
  {
   "cell_type": "code",
   "execution_count": 65,
   "id": "103e5030",
   "metadata": {
    "vscode": {
     "languageId": "r"
    }
   },
   "outputs": [
    {
     "data": {
      "text/html": [
       "9"
      ],
      "text/latex": [
       "9"
      ],
      "text/markdown": [
       "9"
      ],
      "text/plain": [
       "[1] 9"
      ]
     },
     "metadata": {},
     "output_type": "display_data"
    }
   ],
   "source": [
    "var(T) + var(E) "
   ]
  },
  {
   "cell_type": "code",
   "execution_count": 66,
   "id": "a5e3012a",
   "metadata": {
    "vscode": {
     "languageId": "r"
    }
   },
   "outputs": [
    {
     "data": {
      "text/html": [
       "9"
      ],
      "text/latex": [
       "9"
      ],
      "text/markdown": [
       "9"
      ],
      "text/plain": [
       "[1] 9"
      ]
     },
     "metadata": {},
     "output_type": "display_data"
    }
   ],
   "source": [
    "var(X)"
   ]
  },
  {
   "cell_type": "code",
   "execution_count": 12,
   "id": "60e64247",
   "metadata": {
    "vscode": {
     "languageId": "r"
    }
   },
   "outputs": [
    {
     "data": {
      "text/html": [
       "0"
      ],
      "text/latex": [
       "0"
      ],
      "text/markdown": [
       "0"
      ],
      "text/plain": [
       "[1] 0"
      ]
     },
     "metadata": {},
     "output_type": "display_data"
    }
   ],
   "source": [
    "cor(E, T) |> round(2)"
   ]
  },
  {
   "cell_type": "code",
   "execution_count": 13,
   "id": "bd58dfd0",
   "metadata": {
    "vscode": {
     "languageId": "r"
    }
   },
   "outputs": [
    {
     "data": {
      "image/png": "[encoded data removed]",
      "text/plain": [
       "Plot with title \"density(x = E)\""
      ]
     },
     "metadata": {
      "image/png": {
       "height": 296.6563,
       "width": 480
      }
     },
     "output_type": "display_data"
    }
   ],
   "source": [
    "plot(density(E))\n",
    "curve(dnorm(x, mean(E), sd(E)), add = TRUE, col = \"red\")"
   ]
  },
  {
   "cell_type": "markdown",
   "id": "5fe9c623",
   "metadata": {},
   "source": [
    "Attendibilità:"
   ]
  },
  {
   "cell_type": "code",
   "execution_count": 70,
   "id": "b4d393d9",
   "metadata": {
    "vscode": {
     "languageId": "r"
    }
   },
   "outputs": [
    {
     "data": {
      "text/html": [
       "0.666666666666667"
      ],
      "text/latex": [
       "0.666666666666667"
      ],
      "text/markdown": [
       "0.666666666666667"
      ],
      "text/plain": [
       "[1] 0.6666667"
      ]
     },
     "metadata": {},
     "output_type": "display_data"
    }
   ],
   "source": [
    "rxx <- var(T) / var(X)\n",
    "rxx"
   ]
  },
  {
   "cell_type": "code",
   "execution_count": 15,
   "id": "f8a472fe",
   "metadata": {
    "vscode": {
     "languageId": "r"
    }
   },
   "outputs": [
    {
     "data": {
      "text/html": [
       "0.666666666666666"
      ],
      "text/latex": [
       "0.666666666666666"
      ],
      "text/markdown": [
       "0.666666666666666"
      ],
      "text/plain": [
       "[1] 0.6666667"
      ]
     },
     "metadata": {},
     "output_type": "display_data"
    }
   ],
   "source": [
    "cor(T, X)^2"
   ]
  },
  {
   "cell_type": "markdown",
   "id": "5ac495bb",
   "metadata": {},
   "source": [
    "L'attendibilità, in maniera corrispondente, è il coefficiente di determinazione del modello lineare che spiega T in funzione di X:"
   ]
  },
  {
   "cell_type": "code",
   "execution_count": 71,
   "id": "04d33afa",
   "metadata": {
    "vscode": {
     "languageId": "r"
    }
   },
   "outputs": [
    {
     "data": {
      "text/html": [
       "0.666666666666667"
      ],
      "text/latex": [
       "0.666666666666667"
      ],
      "text/markdown": [
       "0.666666666666667"
      ],
      "text/plain": [
       "[1] 0.6666667"
      ]
     },
     "metadata": {},
     "output_type": "display_data"
    }
   ],
   "source": [
    "fm <- lm(T ~ X)\n",
    "out <- summary(fm)\n",
    "out$r.squared"
   ]
  },
  {
   "cell_type": "markdown",
   "id": "b95f66ac",
   "metadata": {},
   "source": [
    "### SEM\n",
    "\n",
    "L'errore standard della misurazione"
   ]
  },
  {
   "cell_type": "code",
   "execution_count": 76,
   "id": "68f6100e",
   "metadata": {
    "vscode": {
     "languageId": "r"
    }
   },
   "outputs": [
    {
     "data": {
      "text/html": [
       "1.732"
      ],
      "text/latex": [
       "1.732"
      ],
      "text/markdown": [
       "1.732"
      ],
      "text/plain": [
       "[1] 1.732"
      ]
     },
     "metadata": {},
     "output_type": "display_data"
    }
   ],
   "source": [
    "SEM <- sd(X) * sqrt(1 - rxx)\n",
    "SEM |> round(3)"
   ]
  },
  {
   "cell_type": "markdown",
   "id": "32df70f6",
   "metadata": {},
   "source": [
    "è identico alla deviazione standard degli errori:"
   ]
  },
  {
   "cell_type": "code",
   "execution_count": 77,
   "id": "0604a47a",
   "metadata": {
    "vscode": {
     "languageId": "r"
    }
   },
   "outputs": [
    {
     "data": {
      "text/html": [
       "1.732"
      ],
      "text/latex": [
       "1.732"
      ],
      "text/markdown": [
       "1.732"
      ],
      "text/plain": [
       "[1] 1.732"
      ]
     },
     "metadata": {},
     "output_type": "display_data"
    }
   ],
   "source": [
    "sqrt(3) |> round(3)"
   ]
  },
  {
   "cell_type": "code",
   "execution_count": 78,
   "id": "01ebf34c",
   "metadata": {
    "vscode": {
     "languageId": "r"
    }
   },
   "outputs": [
    {
     "data": {
      "text/html": [
       "1.732"
      ],
      "text/latex": [
       "1.732"
      ],
      "text/markdown": [
       "1.732"
      ],
      "text/plain": [
       "[1] 1.732"
      ]
     },
     "metadata": {},
     "output_type": "display_data"
    }
   ],
   "source": [
    "sqrt(var(E)) |> round(3)"
   ]
  },
  {
   "cell_type": "code",
   "execution_count": null,
   "id": "e8145a31",
   "metadata": {
    "vscode": {
     "languageId": "r"
    }
   },
   "outputs": [
    {
     "name": "stdout",
     "output_type": "stream",
     "text": [
      "Number of items removed: 27"
     ]
    }
   ],
   "source": [
    "# Import data \n",
    "\n",
    "df_tot <- readRDS(\n",
    "    here(\"data\", \"fai_2022_11_20.rds\")\n",
    ")\n",
    "\n",
    "\n",
    "# Data wrangling \n",
    "\n",
    "# Careless responding\n",
    "# Filter for rows with FLAG == \"keep\" and remove the FLAG column\n",
    "temp <- df_tot |>\n",
    "    dplyr::filter(FLAG == \"keep\")\n",
    "temp$FLAG <- NULL\n",
    "\n",
    "\n",
    "# Descriptive statistics for the items \n",
    "\n",
    "# Compute skewness and kurtosis\n",
    "items_stats <- psych::describe(temp)\n",
    "\n",
    "# Identify items with high skewness or kurtosis (absolute values)\n",
    "items_skew_kurt_bad <- rownames(items_stats)[abs(items_stats$skew) > 2.5 | abs(items_stats$kurtosis) > 7.5]\n",
    "\n",
    "# Remove NA values from items_skew_kurt_bad\n",
    "items_skew_kurt_bad <- na.omit(items_skew_kurt_bad)\n",
    "\n",
    "# Select columns excluding the problematic items\n",
    "df_clean <- temp %>%\n",
    "    dplyr::select(-dplyr::all_of(items_skew_kurt_bad))\n",
    "\n",
    "# Check the number of removed items (columns)\n",
    "num_removed <- ncol(temp) - ncol(df_clean)\n",
    "cat(\"Number of items removed:\", num_removed)\n",
    "\n",
    "# Use only 4 items\n",
    "df <- df_clean %>% \n",
    "    dplyr::select(\"FAI_129\", \"FAI_133\", \"FAI_25\", \"FAI_103\")\n",
    "\n",
    "df$fai_a2 <- df$FAI_129 + df$FAI_133 + df$FAI_25 + df$FAI_103"
   ]
  },
  {
   "cell_type": "code",
   "execution_count": 17,
   "id": "cfcb083f",
   "metadata": {
    "vscode": {
     "languageId": "r"
    }
   },
   "outputs": [
    {
     "data": {
      "image/png": "[encoded data removed]",
      "text/plain": [
       "Plot with title \"Histogram of df$fai_a2\""
      ]
     },
     "metadata": {
      "image/png": {
       "height": 296.6563,
       "width": 480
      }
     },
     "output_type": "display_data"
    }
   ],
   "source": [
    "hist(df$fai_a2)"
   ]
  },
  {
   "cell_type": "markdown",
   "id": "a49eaa7c",
   "metadata": {},
   "source": [
    "Metodi per stimare l'attendibilità: test paralleli, test-retest, split-half, consistenza interna."
   ]
  },
  {
   "cell_type": "code",
   "execution_count": 44,
   "id": "c63d4b1f",
   "metadata": {
    "vscode": {
     "languageId": "r"
    }
   },
   "outputs": [
    {
     "data": {
      "text/plain": [
       "\n",
       "Reliability analysis   \n",
       "Call: psych::alpha(x = df[, 1:4])\n",
       "\n",
       "  raw_alpha std.alpha G6(smc) average_r S/N   ase mean  sd median_r\n",
       "      0.82      0.82    0.79      0.54 4.7 0.013  1.9 1.2     0.53\n",
       "\n",
       "    95% confidence boundaries \n",
       "         lower alpha upper\n",
       "Feldt     0.79  0.82  0.85\n",
       "Duhachek  0.80  0.82  0.85\n",
       "\n",
       " Reliability if an item is dropped:\n",
       "        raw_alpha std.alpha G6(smc) average_r S/N alpha se  var.r\n",
       "FAI_129      0.74      0.74    0.67      0.49 2.9    0.021 0.0073\n",
       "FAI_133      0.76      0.76    0.69      0.51 3.1    0.020 0.0095\n",
       "FAI_25       0.77      0.77    0.71      0.53 3.3    0.019 0.0184\n",
       "FAI_103      0.83      0.84    0.78      0.63 5.2    0.013 0.0021\n",
       "        med.r\n",
       "FAI_129  0.45\n",
       "FAI_133  0.46\n",
       "FAI_25   0.46\n",
       "FAI_103  0.62\n",
       "\n",
       " Item statistics \n",
       "          n raw.r std.r r.cor r.drop mean  sd\n",
       "FAI_129 453  0.86  0.85  0.81   0.73  2.1 1.4\n",
       "FAI_133 453  0.85  0.84  0.77   0.69  1.6 1.6\n",
       "FAI_25  453  0.81  0.82  0.74   0.67  2.4 1.3\n",
       "FAI_103 453  0.72  0.72  0.56   0.52  1.6 1.4\n",
       "\n",
       "Non missing response frequency for each item\n",
       "           0    1    2    3    4 miss\n",
       "FAI_129 0.13 0.33 0.13 0.16 0.25    0\n",
       "FAI_133 0.36 0.24 0.07 0.09 0.25    0\n",
       "FAI_25  0.06 0.24 0.23 0.20 0.28    0\n",
       "FAI_103 0.23 0.37 0.11 0.11 0.18    0"
      ]
     },
     "metadata": {},
     "output_type": "display_data"
    }
   ],
   "source": [
    "df[, 1:4] |> psych::alpha()"
   ]
  },
  {
   "cell_type": "code",
   "execution_count": 55,
   "id": "db781cc5",
   "metadata": {
    "vscode": {
     "languageId": "r"
    }
   },
   "outputs": [
    {
     "data": {
      "text/html": [
       "1.96673725789664"
      ],
      "text/latex": [
       "1.96673725789664"
      ],
      "text/markdown": [
       "1.96673725789664"
      ],
      "text/plain": [
       "[1] 1.966737"
      ]
     },
     "metadata": {},
     "output_type": "display_data"
    }
   ],
   "source": [
    "rxx <- 0.82\n",
    "sd(df$fai_a2) * sqrt(1 - rxx)"
   ]
  },
  {
   "cell_type": "code",
   "execution_count": 60,
   "id": "be2abdcc",
   "metadata": {
    "vscode": {
     "languageId": "r"
    }
   },
   "outputs": [
    {
     "data": {
      "image/png": "[encoded data removed]",
      "text/plain": [
       "Plot with title \"density(x = df$fai_a2)\""
      ]
     },
     "metadata": {
      "image/png": {
       "height": 296.6563,
       "width": 480
      }
     },
     "output_type": "display_data"
    }
   ],
   "source": [
    "plot(density(df$fai_a2))"
   ]
  },
  {
   "cell_type": "markdown",
   "id": "7f7740d3",
   "metadata": {},
   "source": [
    "### Stima del Punteggio Vero\n",
    "\n",
    "$\\hat{T} = \\bar{X} + r_{xx} (X - \\bar{X})$"
   ]
  },
  {
   "cell_type": "markdown",
   "id": "2c8ebb54",
   "metadata": {},
   "source": [
    "Consideriemo il punteggio di 10 sulla sottoscale FAI-2. La stima del punteggio vero diventa:"
   ]
  },
  {
   "cell_type": "code",
   "execution_count": 83,
   "id": "46af15b2",
   "metadata": {
    "vscode": {
     "languageId": "r"
    }
   },
   "outputs": [
    {
     "data": {
      "text/html": [
       "9.58794701986755"
      ],
      "text/latex": [
       "9.58794701986755"
      ],
      "text/markdown": [
       "9.58794701986755"
      ],
      "text/plain": [
       "[1] 9.587947"
      ]
     },
     "metadata": {},
     "output_type": "display_data"
    }
   ],
   "source": [
    "mean(df$fai_a2) + 0.82 * (10 - mean(df$fai_a2))"
   ]
  },
  {
   "cell_type": "markdown",
   "id": "e283e422",
   "metadata": {},
   "source": [
    "$\\sigma_{\\hat{T}} = \\sigma_X\\sqrt{r_{xx'}(1 - r_{xx'})}$"
   ]
  },
  {
   "cell_type": "markdown",
   "id": "e8bb8644",
   "metadata": {},
   "source": [
    "Calcoliamo l'errore standard della stima del punteggio vero:"
   ]
  },
  {
   "cell_type": "code",
   "execution_count": 91,
   "id": "a7faec4a",
   "metadata": {
    "vscode": {
     "languageId": "r"
    }
   },
   "outputs": [
    {
     "data": {
      "text/html": [
       "1.78095633357783"
      ],
      "text/latex": [
       "1.78095633357783"
      ],
      "text/markdown": [
       "1.78095633357783"
      ],
      "text/plain": [
       "[1] 1.780956"
      ]
     },
     "metadata": {},
     "output_type": "display_data"
    }
   ],
   "source": [
    "sd(df$fai_a2) * sqrt(0.82 * (1 - 0.82))"
   ]
  },
  {
   "cell_type": "code",
   "execution_count": 92,
   "id": "4bf411b6",
   "metadata": {
    "vscode": {
     "languageId": "r"
    }
   },
   "outputs": [
    {
     "name": "stdout",
     "output_type": "stream",
     "text": [
      "CI.tscore             package:psychometric             R Documentation\n",
      "\n",
      "_\bC_\bo_\bn_\bf_\bi_\bd_\be_\bn_\bc_\be _\bI_\bn_\bt_\be_\br_\bv_\ba_\bl_\bs _\bf_\bo_\br _\bT_\be_\bs_\bt _\bS_\bc_\bo_\br_\be_\bs\n",
      "\n",
      "_\bD_\be_\bs_\bc_\br_\bi_\bp_\bt_\bi_\bo_\bn:\n",
      "\n",
      "     Computes the CI for a desired level for observed scores and\n",
      "     estimated true scores\n",
      "\n",
      "_\bU_\bs_\ba_\bg_\be:\n",
      "\n",
      "     CI.tscore(obs, mx, s, rxx, level = 0.95)\n",
      "     \n",
      "     CI.obs(obs, s, rxx, level = 0.95)\n",
      "     \n",
      "_\bA_\br_\bg_\bu_\bm_\be_\bn_\bt_\bs:\n",
      "\n",
      "     obs: Observed test score on test x\n",
      "\n",
      "      mx: mean of test x\n",
      "\n",
      "       s: standard deviation of test x\n",
      "\n",
      "     rxx: reliability of test x\n",
      "\n",
      "   level: Significance Level for constructing the CI, default is .95\n",
      "\n",
      "_\bD_\be_\bt_\ba_\bi_\bl_\bs:\n",
      "\n",
      "     'CI.tscore' makes use of 'Est.true' to correct the observed score\n",
      "     for regression to the mean and 'SE.Est' for the correct standard\n",
      "     error. 'CI.tscore' also requires entry of the mean of the test\n",
      "     scores for correcting for regression to the mean.\n",
      "     'CI.obs' is much simpler in construction as it only makes use of\n",
      "     the observed score without any corrections. 'CI.obs' uses\n",
      "     'SE.Meas', the SEM that appears in most test manuals and text\n",
      "     books.\n",
      "\n",
      "_\bV_\ba_\bl_\bu_\be:\n",
      "\n",
      "     Both functions return a table with 4 elements\n",
      "\n",
      "     SE.: Standard Error of the Estimate or SE of Measurement\n",
      "\n",
      "     LCL: lower confidence limit of the CIDescription of 'comp2'\n",
      "\n",
      " T.Score: (or OBS) Estimate True Score or Observed score\n",
      "\n",
      "     UCL: upper confidence limit of the CI\n",
      "\n",
      "_\bW_\ba_\br_\bn_\bi_\bn_\bg:\n",
      "\n",
      "     Be Cautious in construction and interpretation of CIs\n",
      "     To obtain percent for 1 SEM\n",
      "     1-((1-pnorm(1))*2)\n",
      "     To obtain percent for 2 SEM\n",
      "     1-((1-pnorm(2))*2)\n",
      "     95 percent CI corresponds to 1.96 * SE\n",
      "     1 * SE corresponds to .6827\n",
      "     2 * SE corresponds to 0.9772499\n",
      "     so, for two-sided, 2 * SE corresponds to 0.9544997\n",
      "\n",
      "_\bN_\bo_\bt_\be:\n",
      "\n",
      "     It is not in error to report any one of these. The\n",
      "     misinterpretation is in taking the observed score and making\n",
      "     inferences about the true score without (1) using the correct\n",
      "     standard error and (2) correcting for regression toward the mean\n",
      "     of the observed scores.\n",
      "\n",
      "_\bA_\bu_\bt_\bh_\bo_\br(_\bs):\n",
      "\n",
      "     Thomas D. Fletcher <mailto:t.d.fletcher05@gmail.com>\n",
      "\n",
      "_\bR_\be_\bf_\be_\br_\be_\bn_\bc_\be_\bs:\n",
      "\n",
      "     Dudek, F. J. (1979). The continuing misinterpretation of the\n",
      "     standard error of measurement.  _Psychological Bulletin, 86_,\n",
      "     335-337.\n",
      "\n",
      "_\bS_\be_\be _\bA_\bl_\bs_\bo:\n",
      "\n",
      "     'SE.Meas'\n",
      "\n",
      "_\bE_\bx_\ba_\bm_\bp_\bl_\be_\bs:\n",
      "\n",
      "     # Examples from Dudek (1979)\n",
      "     # Suppose a test has mean = 500, SD = 100 rxx = .9\n",
      "     # If an individual scores 700 on the test\n",
      "     CI.tscore (700, 500, 100, .9, level=.68)\n",
      "     CI.obs(700, 100,.9, level=.68)\n",
      "     "
     ]
    }
   ],
   "source": [
    "?CI.tscore"
   ]
  },
  {
   "cell_type": "code",
   "execution_count": 93,
   "id": "8de9ae0a",
   "metadata": {
    "vscode": {
     "languageId": "r"
    }
   },
   "outputs": [
    {
     "data": {
      "text/html": [
       "<table class=\"dataframe\">\n",
       "<caption>A data.frame: 1 x 4</caption>\n",
       "<thead>\n",
       "\t<tr><th scope=col>SE.Est</th><th scope=col>LCL</th><th scope=col>T.Score</th><th scope=col>UCL</th></tr>\n",
       "\t<tr><th scope=col>&lt;dbl&gt;</th><th scope=col>&lt;dbl&gt;</th><th scope=col>&lt;dbl&gt;</th><th scope=col>&lt;dbl&gt;</th></tr>\n",
       "</thead>\n",
       "<tbody>\n",
       "\t<tr><td>1.780956</td><td>6.097337</td><td>9.587947</td><td>13.07856</td></tr>\n",
       "</tbody>\n",
       "</table>\n"
      ],
      "text/latex": [
       "A data.frame: 1 x 4\n",
       "\\begin{tabular}{llll}\n",
       " SE.Est & LCL & T.Score & UCL\\\\\n",
       " <dbl> & <dbl> & <dbl> & <dbl>\\\\\n",
       "\\hline\n",
       "\t 1.780956 & 6.097337 & 9.587947 & 13.07856\\\\\n",
       "\\end{tabular}\n"
      ],
      "text/markdown": [
       "\n",
       "A data.frame: 1 x 4\n",
       "\n",
       "| SE.Est &lt;dbl&gt; | LCL &lt;dbl&gt; | T.Score &lt;dbl&gt; | UCL &lt;dbl&gt; |\n",
       "|---|---|---|---|\n",
       "| 1.780956 | 6.097337 | 9.587947 | 13.07856 |\n",
       "\n"
      ],
      "text/plain": [
       "  SE.Est   LCL      T.Score  UCL     \n",
       "1 1.780956 6.097337 9.587947 13.07856"
      ]
     },
     "metadata": {},
     "output_type": "display_data"
    }
   ],
   "source": [
    "CI.tscore(10, mean(df$fai_a2), sd(df$fai_a2), 0.82, level = 0.95)"
   ]
  },
  {
   "cell_type": "markdown",
   "id": "e2f68cfd",
   "metadata": {},
   "source": [
    "## Session Info"
   ]
  },
  {
   "cell_type": "code",
   "execution_count": 51,
   "id": "c8d16429",
   "metadata": {
    "vscode": {
     "languageId": "r"
    }
   },
   "outputs": [
    {
     "data": {
      "text/plain": [
       "R version 4.4.1 (2024-06-14)\n",
       "Platform: aarch64-apple-darwin20\n",
       "Running under: macOS 15.0.1\n",
       "\n",
       "Matrix products: default\n",
       "BLAS:   /Library/Frameworks/R.framework/Versions/4.4-arm64/Resources/lib/libRblas.0.dylib \n",
       "LAPACK: /Library/Frameworks/R.framework/Versions/4.4-arm64/Resources/lib/libRlapack.dylib;  LAPACK version 3.12.0\n",
       "\n",
       "locale:\n",
       "[1] C\n",
       "\n",
       "time zone: Europe/Rome\n",
       "tzcode source: internal\n",
       "\n",
       "attached base packages:\n",
       "[1] stats     graphics  grDevices utils     datasets  methods  \n",
       "[7] base     \n",
       "\n",
       "other attached packages:\n",
       " [1] lavaanExtra_0.2.1 lavaanPlot_0.8.1  kableExtra_1.4.0 \n",
       " [4] corrplot_0.94     nortest_1.0-4     MASS_7.3-61      \n",
       " [7] ggokabeito_0.1.0  viridis_0.6.5     viridisLite_0.4.2\n",
       "[10] ggpubr_0.6.0      ggExtra_0.10.1    gridExtra_2.3    \n",
       "[13] patchwork_1.3.0   bayesplot_1.11.1  semTools_0.5-6   \n",
       "[16] semPlot_1.1.6     lavaan_0.6-19     psych_2.4.6.26   \n",
       "[19] scales_1.3.0      markdown_1.13     knitr_1.48       \n",
       "[22] lubridate_1.9.3   forcats_1.0.0     stringr_1.5.1    \n",
       "[25] dplyr_1.1.4       purrr_1.0.2       readr_2.1.5      \n",
       "[28] tidyr_1.3.1       tibble_3.2.1      ggplot2_3.5.1    \n",
       "[31] tidyverse_2.0.0   here_1.0.1       \n",
       "\n",
       "loaded via a namespace (and not attached):\n",
       "  [1] RColorBrewer_1.1-3  rstudioapi_0.16.0   jsonlite_1.8.9     \n",
       "  [4] magrittr_2.0.3      TH.data_1.1-2       estimability_1.5.1 \n",
       "  [7] farver_2.1.2        nloptr_2.1.1        rmarkdown_2.28     \n",
       " [10] vctrs_0.6.5         Cairo_1.6-2         minqa_1.2.8        \n",
       " [13] base64enc_0.1-3     rstatix_0.7.2       htmltools_0.5.8.1  \n",
       " [16] broom_1.0.7         Formula_1.2-5       htmlwidgets_1.6.4  \n",
       " [19] plyr_1.8.9          sandwich_3.1-1      emmeans_1.10.4     \n",
       " [22] zoo_1.8-12          uuid_1.2-1          igraph_2.0.3       \n",
       " [25] mime_0.12           lifecycle_1.0.4     pkgconfig_2.0.3    \n",
       " [28] Matrix_1.7-0        R6_2.5.1            fastmap_1.2.0      \n",
       " [31] shiny_1.9.1         numDeriv_2016.8-1.1 digest_0.6.37      \n",
       " [34] OpenMx_2.21.12      fdrtool_1.2.18      colorspace_2.1-1   \n",
       " [37] rprojroot_2.0.4     Hmisc_5.1-3         labeling_0.4.3     \n",
       " [40] fansi_1.0.6         timechange_0.3.0    abind_1.4-8        \n",
       " [43] compiler_4.4.1      withr_3.0.1         glasso_1.11        \n",
       " [46] htmlTable_2.4.3     backports_1.5.0     carData_3.0-5      \n",
       " [49] ggsignif_0.6.4      corpcor_1.6.10      gtools_3.9.5       \n",
       " [52] tools_4.4.1         pbivnorm_0.6.0      foreign_0.8-87     \n",
       " [55] zip_2.3.1           httpuv_1.6.15       nnet_7.3-19        \n",
       " [58] glue_1.8.0          quadprog_1.5-8      DiagrammeR_1.0.11  \n",
       " [61] promises_1.3.0      nlme_3.1-166        lisrelToR_0.3      \n",
       " [64] grid_4.4.1          pbdZMQ_0.3-13       checkmate_2.3.2    \n",
       " [67] cluster_2.1.6       reshape2_1.4.4      generics_0.1.3     \n",
       " [70] gtable_0.3.5        tzdb_0.4.0          data.table_1.16.0  \n",
       " [73] hms_1.1.3           xml2_1.3.6          car_3.1-3          \n",
       " [76] utf8_1.2.4          sem_3.1-16          pillar_1.9.0       \n",
       " [79] IRdisplay_1.1       rockchalk_1.8.157   later_1.3.2        \n",
       " [82] splines_4.4.1       lattice_0.22-6      survival_3.7-0     \n",
       " [85] kutils_1.73         tidyselect_1.2.1    miniUI_0.1.1.1     \n",
       " [88] pbapply_1.7-2       svglite_2.1.3       stats4_4.4.1       \n",
       " [91] xfun_0.48           qgraph_1.9.8        arm_1.14-4         \n",
       " [94] visNetwork_2.1.2    stringi_1.8.4       pacman_0.5.1       \n",
       " [97] boot_1.3-31         evaluate_1.0.0      codetools_0.2-20   \n",
       "[100] mi_1.1              cli_3.6.3           RcppParallel_5.1.9 \n",
       "[103] IRkernel_1.3.2      rpart_4.1.23        systemfonts_1.1.0  \n",
       "[106] xtable_1.8-4        repr_1.1.7          munsell_0.5.1      \n",
       "[109] Rcpp_1.0.13         coda_0.19-4.1       png_0.1-8          \n",
       "[112] XML_3.99-0.17       parallel_4.4.1      jpeg_0.1-10        \n",
       "[115] lme4_1.1-35.5       mvtnorm_1.3-1       openxlsx_4.2.7.1   \n",
       "[118] crayon_1.5.3        rlang_1.1.4         multcomp_1.4-26    \n",
       "[121] mnormt_2.1.1       "
      ]
     },
     "metadata": {},
     "output_type": "display_data"
    }
   ],
   "source": [
    "sessionInfo()"
   ]
  }
 ],
 "metadata": {
  "jupytext": {
   "cell_metadata_filter": "tags,-all",
   "main_language": "R",
   "notebook_metadata_filter": "-all"
  },
  "kernelspec": {
   "display_name": "R",
   "language": "R",
   "name": "ir"
  },
  "language_info": {
   "codemirror_mode": "r",
   "file_extension": ".r",
   "mimetype": "text/x-r-source",
   "name": "R",
   "pygments_lexer": "r",
   "version": "4.4.1"
  }
 },
 "nbformat": 4,
 "nbformat_minor": 5
}
