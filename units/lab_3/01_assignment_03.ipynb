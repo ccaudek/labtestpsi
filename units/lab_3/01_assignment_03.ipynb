{
 "cells": [
  {
   "attachments": {},
   "cell_type": "markdown",
   "id": "79a2941d",
   "metadata": {},
   "source": [
    "# Esercitazioni Assegnate {#sec-ctt}"
   ]
  },
  {
   "attachments": {},
   "cell_type": "markdown",
   "id": "39f85889",
   "metadata": {},
   "source": [
    "## CTT\n",
    "\n",
    "- A. Spiegare il modello di regressione lineare bivariato, spiegando sia la logica del calcolo dei coefficienti con il metodo dei minimi quadrati, sia l’interpretazione di parametri statistici come l’errore standard della regressione, la scomposizione della varianza e il calcolo del coefficiente di determinazione. \n",
    "- B. Estendere la discussione al modello alla regressione multipla e approfondendo l’interpretazione dei coefficienti parziali di regressione e il loro legame con i coefficienti parziali di correlazione.\n",
    "- C. Spiegare i concetti principali della CTT con una simulazione.\n",
    "- D. Calcolare le quantità della CTT per i dati FAI (attendibilità, SEM, stima del punteggio vero con il metodo di Kelley e relativo intervallo di fiducia).\n",
    "- E. Presentare un esempio della recente letteratura psicologica in cui vengono usati (1) il SEM, e (2) la stima del punteggio vero.\n",
    "- F. Presentare un esempio della recente letteratura psicologica in cui viene usato il Reliable Change Index (RCI) basato su SEM.\n",
    "\n",
    "    - Blampied, N. M. (2022). Reliable change and the reliable change index: still useful after all these years?. *The Cognitive Behaviour Therapist*, *15*, e50.\n",
    "\n",
    "- G. Discutere i limiti della stima SEM della CTT.\n",
    "\n",
    "- H. Presentazione degli articoli: \n",
    "\n",
    "    - Grund, S., Lüdtke, O., & Robitzsch, A. (2024). Multiple imputation of missing data in large studies with many variables: A fully conditional specification approach using partial least squares. *Psychological Methods*.\n",
    "    - Van Ginkel, J. R., Linting, M., Rippe, R. C., & Van Der Voort, A. (2020). Rebutting existing misconceptions about multiple imputation as a method for handling missing data. *Journal of personality assessment*, *102*(3), 297-308.\n",
    "\n",
    "- I. Applicazione dell'imputazione multipla ai dati FAI."
   ]
  }
 ],
 "metadata": {
  "jupytext": {
   "cell_metadata_filter": "tags,-all",
   "main_language": "R",
   "notebook_metadata_filter": "-all"
  },
  "kernelspec": {
   "display_name": "R",
   "language": "R",
   "name": "ir"
  },
  "language_info": {
   "codemirror_mode": "r",
   "file_extension": ".r",
   "mimetype": "text/x-r-source",
   "name": "R",
   "pygments_lexer": "r",
   "version": "4.4.1"
  }
 },
 "nbformat": 4,
 "nbformat_minor": 5
}
