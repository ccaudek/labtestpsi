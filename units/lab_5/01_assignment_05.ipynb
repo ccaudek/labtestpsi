{
 "cells": [
  {
   "attachments": {},
   "cell_type": "markdown",
   "id": "79a2941d",
   "metadata": {},
   "source": [
    "# IRT {#sec-irt}"
   ]
  },
  {
   "attachments": {},
   "cell_type": "markdown",
   "id": "39f85889",
   "metadata": {},
   "source": [
    "## Esercitazioni Assegnate\n",
    "\n",
    "- A. Spiegazione del modello di Rasch.\n",
    "- B. Spiegazione dei modelli 1PL, 2PL, 3PL.\n",
    "- C. Confronto tra modelli. \n",
    "    - Replicare i risultati del confronto tra modelli 1PL, 2PL, 3PL descritto da \"Analysing Standard Progressive Matrices (SPM-LS) with Bayesian Item Response Models\" di Paul-Christian Bürkner usando i dati di Myszkowski and Storme (2018).\n",
    "    - Descrivere il confronto tra modelli discusso da Dema (2018).\n",
    "- D. Applicazione dei modelli IRT ai dati FAI.\n",
    "- E. Presentazione degli [STANDARDS for Educational and Psychological Testing](www.testingstandards.net/open-access-files.html) degli Standards.\n",
    "- F. Presentazione degli articoli\n",
    "    - Arias, A. (2024). [A Short Tutorial on Validation in Educational and Psychological Assessment](https://www.tqmp.org/Vignettes/vol20-3/v024/v024.pdf)\n",
    "    - Randall, J. (2021). “color-neutral” is not a thing: Redefining construct definition and representation through a justice-oriented critical antiracist lens. *Educational Measurement: Issues and Practices*, *40*(4), 82–90.\n",
    "    - Randall, J., Slomp, D., Poe, M., & Oliveri, M. E. (2022). Disrupting white supremacy in assessment: Toward a justice-oriented, antiracist validity framework. *Educational Assessment*, *27*(2), 170–178.\n",
    "    - \n",
    "- G. Applicare i concetti degli Standards al FAI."
   ]
  }
 ],
 "metadata": {
  "jupytext": {
   "cell_metadata_filter": "tags,-all",
   "main_language": "R",
   "notebook_metadata_filter": "-all"
  },
  "kernelspec": {
   "display_name": "R",
   "language": "R",
   "name": "ir"
  },
  "language_info": {
   "codemirror_mode": "r",
   "file_extension": ".r",
   "mimetype": "text/x-r-source",
   "name": "R",
   "pygments_lexer": "r",
   "version": "4.4.1"
  }
 },
 "nbformat": 4,
 "nbformat_minor": 5
}
