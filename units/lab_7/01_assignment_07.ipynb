{
 "cells": [
  {
   "attachments": {},
   "cell_type": "markdown",
   "id": "79a2941d",
   "metadata": {},
   "source": [
    "# FA {#sec-fa}"
   ]
  },
  {
   "attachments": {},
   "cell_type": "markdown",
   "id": "39f85889",
   "metadata": {},
   "source": [
    "## Esercitazioni Assegnate\n",
    "\n",
    "- A. Spiegazione della Path Analysis (capitolo 1, Lohelin, 2017).\n",
    "- B. Svolgimento degli esercizi del capitolo 1, Lohelin (2017).\n",
    "- C. Spiegazione del concetto di correlazione parziale con simulazione.\n",
    "\n",
    "- C. Analisi fattoriale con algebra matriciale: metodo delle componenti principali sui dati FAI (una sottoscala).\n",
    "- D. Replicare l'analisi con lavaan (una sottoscala, test completo). \n",
    "- E. Matrice di pattern, matrice di struttura: spiegazione, esempi.\n",
    "- F. Calcolo delle correlazioni per modello multifattoriale usando path analysis.\n",
    "- E. Replicare i risultati di una path analysis usando i dati di una pubblicazione."
   ]
  }
 ],
 "metadata": {
  "jupytext": {
   "cell_metadata_filter": "tags,-all",
   "main_language": "R",
   "notebook_metadata_filter": "-all"
  },
  "kernelspec": {
   "display_name": "R",
   "language": "R",
   "name": "ir"
  },
  "language_info": {
   "codemirror_mode": "r",
   "file_extension": ".r",
   "mimetype": "text/x-r-source",
   "name": "R",
   "pygments_lexer": "r",
   "version": "4.4.1"
  }
 },
 "nbformat": 4,
 "nbformat_minor": 5
}
