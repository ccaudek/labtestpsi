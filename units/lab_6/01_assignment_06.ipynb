{
 "cells": [
  {
   "attachments": {},
   "cell_type": "markdown",
   "id": "79a2941d",
   "metadata": {},
   "source": [
    "# PCA {#sec-pca}"
   ]
  },
  {
   "attachments": {},
   "cell_type": "markdown",
   "id": "39f85889",
   "metadata": {},
   "source": [
    "## Esercitazioni Assegnate\n",
    "\n",
    "- A. Modello di regressione bivariata con l'algebra matriciale.\n",
    "- B. Modello di regressione multipla con l'algebra matriciale.\n",
    "- C. Spiegazione geometrica degli autovalori e autovettori.\n",
    "- D. Simulazione e spiegazione della PCA.\n",
    "- E. Applicazione della PCA per i dati di Greenacre etal. (2022).\n",
    "- F. Discussione di Caron & Lemardelet (2021)."
   ]
  }
 ],
 "metadata": {
  "jupytext": {
   "cell_metadata_filter": "tags,-all",
   "main_language": "R",
   "notebook_metadata_filter": "-all"
  },
  "kernelspec": {
   "display_name": "R",
   "language": "R",
   "name": "ir"
  },
  "language_info": {
   "codemirror_mode": "r",
   "file_extension": ".r",
   "mimetype": "text/x-r-source",
   "name": "R",
   "pygments_lexer": "r",
   "version": "4.4.1"
  }
 },
 "nbformat": 4,
 "nbformat_minor": 5
}
