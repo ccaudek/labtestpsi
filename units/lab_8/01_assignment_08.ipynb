{
 "cells": [
  {
   "attachments": {},
   "cell_type": "markdown",
   "id": "79a2941d",
   "metadata": {},
   "source": [
    "# Exploratory FA and CFA {#sec-fa}"
   ]
  },
  {
   "attachments": {},
   "cell_type": "markdown",
   "id": "39f85889",
   "metadata": {},
   "source": [
    "## Esercitazioni Assegnate\n",
    "\n",
    "- A. Spiegazione tecniche di analisi della dimensionalità; applicazione ai dati FAI.\n",
    "- B. Spiegazione della rotazione fattoriale. Applicazione ai dati FAI con due sottoscale.\n",
    "- C. Spiegazione dei punteggi fattoriali. Calcolo punteggi fattoriali FAI. \n",
    "- D. Punteggi fattoriali e total score.\n",
    "- E. GFI, residui, MI.\n",
    "- F. Confronto di modelli.\n",
    "- G. Equality Constraints within a Single Group: Congeneric, Tau-Equivalent, and Parallel Indicators.\n",
    "- H. Multiple-Groups CFA Invariance Evaluation."
   ]
  }
 ],
 "metadata": {
  "jupytext": {
   "cell_metadata_filter": "tags,-all",
   "main_language": "R",
   "notebook_metadata_filter": "-all"
  },
  "kernelspec": {
   "display_name": "R",
   "language": "R",
   "name": "ir"
  },
  "language_info": {
   "codemirror_mode": "r",
   "file_extension": ".r",
   "mimetype": "text/x-r-source",
   "name": "R",
   "pygments_lexer": "r",
   "version": "4.4.1"
  }
 },
 "nbformat": 4,
 "nbformat_minor": 5
}
